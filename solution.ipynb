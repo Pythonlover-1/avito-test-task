{
  "cells": [
    {
      "cell_type": "markdown",
      "metadata": {},
      "source": [
        "# Best score solution: восстановление пробелов\n",
        "\n",
        "Идея решения:\n",
        "- Сначала ставим очевидные разрывы по правилам: пунктуация (после запятой и т.п.), длинное тире с двух сторон, смена алфавита (кириллица/латиница), буква↔цифра, переход `a→A` (эффект CamelCase), предлоги/союзы «в/к/на/по/из/до/от/за/во/со/об» перед ПРОПИСНОЙ или числом, стартовые якоря домена (куплю/ищу/сдам/продам/новый/срочно…).\n",
        "- Для непрерывных кириллических фрагментов применяем динамическую сегментацию (DP): минимизируем сумму стоимостей слов. Стоимость токена: `10 - Zipf(token)` из `wordfreq`; для очень длинных и редких токенов добавляется штраф.\n",
        "- На выходе получаем отсортированный список позиций.\n",
        "\n",
        "Ввод: `data/dataset.txt` (колонки `id,text_no_spaces`). \n",
        "\n",
        "Вывод: `submission.csv`. \n"
      ]
    },
    {
      "cell_type": "code",
      "execution_count": 1,
      "metadata": {},
      "outputs": [
        {
          "name": "stderr",
          "output_type": "stream",
          "text": [
            "/Users/dmitriy/programming/avito-test-task/.venv/lib/python3.13/site-packages/tqdm/auto.py:21: TqdmWarning: IProgress not found. Please update jupyter and ipywidgets. See https://ipywidgets.readthedocs.io/en/stable/user_install.html\n",
            "  from .autonotebook import tqdm as notebook_tqdm\n"
          ]
        }
      ],
      "source": [
        "# Импорты и конфигурация\n",
        "import os\n",
        "from typing import List, Set, Tuple\n",
        "from tqdm.auto import tqdm\n",
        "from wordfreq import zipf_frequency\n",
        "\n",
        "# Пути к файлам\n",
        "INPUT_PATH = os.path.join('data', 'dataset.txt')\n",
        "OUTPUT_PATH = 'submission.csv'\n",
        "\n",
        "# Максимальная длина русского \"слова\" в окне DP\n",
        "MAX_RU_WORD_LEN = 24\n"
      ]
    },
    {
      "cell_type": "code",
      "execution_count": 2,
      "metadata": {},
      "outputs": [],
      "source": [
        "# Вспомогательные константы\n",
        "\n",
        "DASHES = \"—–\"\n",
        "PUNCT_THAT_NEEDS_SPACE_AFTER = set(\",;!?)]}»…\")\n",
        "COMMON_START_WORDS = [\n",
        "    \"куплю\",\"ищу\",\"сдам\",\"сдаю\",\"продам\",\"продаю\",\"отдам\",\n",
        "    \"новый\",\"новая\",\"новое\",\"новые\",\"срочно\",\"хочу\",\"нужен\",\"нужно\",\"нужна\",\"срочнопродам\",\n",
        "]\n",
        "ONE_LETTER_PREPS = set(list(\"вксоуюоВОСУЮО\"))\n",
        "TWO_LETTER_PREPS = [\"на\",\"по\",\"до\",\"от\",\"из\",\"во\",\"со\",\"об\",\"за\"]"
      ]
    },
    {
      "cell_type": "code",
      "execution_count": 3,
      "metadata": {},
      "outputs": [],
      "source": [
        "# Вспомогательные функции для классов символов и правил\n",
        "\n",
        "def is_cyr(ch: str) -> bool:\n",
        "    return (\"А\" <= ch <= \"Я\") or (\"а\" <= ch <= \"я\") or ch in \"Ёё\"\n",
        "\n",
        "\n",
        "def is_lat(ch: str) -> bool:\n",
        "    return (\"A\" <= ch <= \"Z\") or (\"a\" <= ch <= \"z\")\n",
        "\n",
        "\n",
        "def is_upper(ch: str) -> bool:\n",
        "    return ch.upper() == ch and ch.lower() != ch\n",
        "\n",
        "\n",
        "def is_lower(ch: str) -> bool:\n",
        "    return ch.lower() == ch and ch.upper() != ch\n",
        "\n",
        "\n",
        "def is_letter(ch: str) -> bool:\n",
        "    return is_cyr(ch) or is_lat(ch)\n",
        "    \n"
      ]
    },
    {
      "cell_type": "code",
      "execution_count": 4,
      "metadata": {},
      "outputs": [],
      "source": [
        "# should_break — решает, нужно ли ставить пробел перед символом s[i]\n",
        "#    по правилам пунктуации, тире, смены типов символов (буква/цифра,\n",
        "#    кириллица/латиница) и перехода нижний→верхний регистр.\n",
        "# add_initial_anchors — добавляет «якорные» разрывы после типовых\n",
        "#    стартовых слов домена объявлений и по эвристике окончания «у/ю».\n",
        "# add_preposition_gaps — расставляет пробелы вокруг коротких предлогов\n",
        "#    («в/к/на/по/…») при последующей ПРОПИСНОЙ букве или числе.\n",
        "\n",
        "def should_break(s: str, i: int) -> bool:\n",
        "    prev = s[i - 1]\n",
        "    cur = s[i]\n",
        "    if prev in PUNCT_THAT_NEEDS_SPACE_AFTER:\n",
        "        return True\n",
        "    if prev == \".\":\n",
        "        if i >= 2 and s[i-2].isdigit() and cur.isdigit():\n",
        "            return False\n",
        "        if cur == \".\":\n",
        "            return False\n",
        "        return True\n",
        "    if cur in DASHES:\n",
        "        if is_letter(prev) or prev.isdigit() or prev in \")]}'»\":\n",
        "            return True\n",
        "    if prev in DASHES:\n",
        "        if is_letter(cur) or cur.isdigit() or cur in \"([«\":\n",
        "            return True\n",
        "    if (is_letter(prev) and cur.isdigit()) or (prev.isdigit() and is_letter(cur)):\n",
        "        return True\n",
        "    if (is_cyr(prev) and is_lat(cur)) or (is_lat(prev) and is_cyr(cur)):\n",
        "        return True\n",
        "    if is_lower(prev) and is_upper(cur):\n",
        "        return True\n",
        "    return False\n",
        "\n",
        "\n",
        "def add_initial_anchors(s: str, positions: Set[int]) -> None:\n",
        "    for w in COMMON_START_WORDS:\n",
        "        if s.startswith(w) and len(s) > len(w):\n",
        "            positions.add(len(w))\n",
        "    for k in range(2, min(10, len(s))):\n",
        "        if s[k-1] in \"ую\" and is_cyr(s[k]):\n",
        "            positions.add(k)\n",
        "            break\n",
        "\n",
        "\n",
        "def add_preposition_gaps(s: str, positions: Set[int]) -> None:\n",
        "    n = len(s)\n",
        "    for i in range(1, n-1):\n",
        "        ch = s[i]\n",
        "        if ch in ONE_LETTER_PREPS:\n",
        "            nxt = s[i+1]\n",
        "            if is_upper(nxt) or nxt.isdigit():\n",
        "                if is_letter(s[i-1]) or s[i-1].isdigit():\n",
        "                    positions.add(i); positions.add(i+1)\n",
        "    for i in range(2, n-1):\n",
        "        pair = s[i-2:i]\n",
        "        if pair.lower() in TWO_LETTER_PREPS:\n",
        "            nxt = s[i]\n",
        "            if is_upper(nxt) or nxt.isdigit():\n",
        "                if is_letter(s[i-3]) or s[i-3].isdigit():\n",
        "                    positions.add(i-2); positions.add(i)\n",
        "\n"
      ]
    },
    {
      "cell_type": "code",
      "execution_count": 5,
      "metadata": {},
      "outputs": [],
      "source": [
        "# ru_token_cost: вычисляет «цену» токена. Чем чаще слово в корпусах (выше Zipf),\n",
        "#   тем ниже цена: cost = 10 - zipf. Также добавляется штраф за очень длинные редкие токены.\n",
        "# segment_cyr_run_dp: динамическое программирование по подстроке из кириллицы.\n",
        "#   Перебираем окончания слова с окном до MAX_RU_WORD_LEN, находим разбиение с минимальной суммой цен.\n",
        "#   Возвращаем локальные индексы разрывов внутри run (без 0 и len(run)).\n",
        "\n",
        "\n",
        "def ru_token_cost(token: str) -> float:\n",
        "    t = token.lower()\n",
        "    try:\n",
        "        zipf = zipf_frequency(t, \"ru\")\n",
        "    except Exception:\n",
        "        zipf = 0.0\n",
        "\n",
        "    if len(t) == 1 and t in {\"и\",\"в\",\"с\",\"к\",\"у\",\"я\",\"а\",\"о\"}:\n",
        "        zipf = max(zipf, 6.0)\n",
        "    if len(t) == 2 and t in {\"на\",\"по\",\"до\",\"от\",\"из\",\"за\",\"во\",\"со\",\"об\"}:\n",
        "        zipf = max(zipf, 5.2)\n",
        "\n",
        "    cost = 10.0 - zipf\n",
        "    if zipf < 1.0 and len(t) >= 8:\n",
        "        cost += 2.0\n",
        "    return cost\n",
        "\n",
        "\n",
        "def segment_cyr_run_dp(run: str) -> List[int]:\n",
        "    n = len(run)\n",
        "    if n <= 1:\n",
        "        return []\n",
        "    dp: List[Tuple[float, int]] = [(float(\"inf\"), -1) for _ in range(n + 1)]\n",
        "    dp[0] = (0.0, -1)\n",
        "    for i in range(1, n + 1):\n",
        "        best_cost = float(\"inf\"); best_j = -1\n",
        "        max_k = min(MAX_RU_WORD_LEN, i)\n",
        "        for k in range(1, max_k + 1):\n",
        "            j = i - k\n",
        "            token = run[j:i]\n",
        "            cost = dp[j][0] + ru_token_cost(token)\n",
        "            if cost < best_cost:\n",
        "                best_cost, best_j = cost, j\n",
        "        dp[i] = (best_cost, best_j)\n",
        "\n",
        "    splits: List[int] = []\n",
        "    i = n\n",
        "    while i > 0:\n",
        "        j = dp[i][1]\n",
        "        if j <= 0:\n",
        "            i = j\n",
        "        else:\n",
        "            splits.append(j); i = j\n",
        "    return sorted(set(x for x in splits if 0 < x < n))\n"
      ]
    },
    {
      "cell_type": "code",
      "execution_count": 6,
      "metadata": {},
      "outputs": [],
      "source": [
        "# add_dp_segmentation_for_cyr: выделяет кириллические подрядки и применяет к ним DP,\n",
        "#   добавляя локальные разрывы в глобальный набор.\n",
        "# predict_positions_for_text: объединяет правила (пунктуация/тире/тип символа),\n",
        "#   стартовые якоря, короткие предлоги и DP. Возвращает отсортированный список позиций.\n",
        "\n",
        "def add_dp_segmentation_for_cyr(s: str, positions: Set[int]) -> None:\n",
        "    i = 0; n = len(s)\n",
        "    while i < n:\n",
        "        if is_cyr(s[i]):\n",
        "            st = i\n",
        "            while i < n and is_cyr(s[i]):\n",
        "                i += 1\n",
        "            run = s[st:i]\n",
        "            if len(run) >= 4:\n",
        "                for r in segment_cyr_run_dp(run):\n",
        "                    positions.add(st + r)\n",
        "        else:\n",
        "            i += 1\n",
        "\n",
        "\n",
        "def predict_positions_for_text(s: str) -> List[int]:\n",
        "    if not s:\n",
        "        return []\n",
        "    positions: Set[int] = set()\n",
        "    for i in range(1, len(s)):\n",
        "        if should_break(s, i):\n",
        "            positions.add(i)\n",
        "    add_initial_anchors(s, positions)\n",
        "    add_preposition_gaps(s, positions)\n",
        "    add_dp_segmentation_for_cyr(s, positions)\n",
        "    return sorted(i for i in positions if 0 < i < len(s))\n"
      ]
    },
    {
      "cell_type": "code",
      "execution_count": 7,
      "metadata": {},
      "outputs": [],
      "source": [
        "# Функция для чтения датасета (pd.read_csv не работает, поскльку в данных есть строки с запятыми)\n",
        "\n",
        "def read_dataset(path: str) -> List[Tuple[int, str]]:\n",
        "    rows: List[Tuple[int, str]] = []\n",
        "    with open(path, 'r', encoding='utf-8') as f:\n",
        "        _ = f.readline()\n",
        "        for line in f:\n",
        "            if not line.strip():\n",
        "                continue\n",
        "            idx, text = line.rstrip('\\n').split(',', 1)\n",
        "            rows.append((int(idx), text))\n",
        "    return rows\n"
      ]
    },
    {
      "cell_type": "code",
      "execution_count": 8,
      "metadata": {},
      "outputs": [
        {
          "name": "stderr",
          "output_type": "stream",
          "text": [
            "100%|██████████| 1005/1005 [00:12<00:00, 79.50it/s]"
          ]
        },
        {
          "name": "stdout",
          "output_type": "stream",
          "text": [
            "Saved submission.csv (rows=1005)\n"
          ]
        },
        {
          "name": "stderr",
          "output_type": "stream",
          "text": [
            "\n"
          ]
        }
      ],
      "source": [
        "# Инференс и сохранение submission\n",
        "\n",
        "rows = read_dataset(INPUT_PATH)\n",
        "\n",
        "out_lines = [\"id,predicted_positions\"]\n",
        "for row_id, text in tqdm(rows):\n",
        "    pos = predict_positions_for_text(text)\n",
        "    out_lines.append(f'{row_id},\"{str(pos)}\"')\n",
        "\n",
        "with open(OUTPUT_PATH, 'w', encoding='utf-8') as f:\n",
        "    f.write(\"\\n\".join(out_lines) + \"\\n\")\n",
        "\n",
        "print(f\"Saved {OUTPUT_PATH} (rows={len(rows)})\")\n"
      ]
    }
  ],
  "metadata": {
    "kernelspec": {
      "display_name": ".venv",
      "language": "python",
      "name": "python3"
    },
    "language_info": {
      "codemirror_mode": {
        "name": "ipython",
        "version": 3
      },
      "file_extension": ".py",
      "mimetype": "text/x-python",
      "name": "python",
      "nbconvert_exporter": "python",
      "pygments_lexer": "ipython3",
      "version": "3.13.1"
    }
  },
  "nbformat": 4,
  "nbformat_minor": 2
}
